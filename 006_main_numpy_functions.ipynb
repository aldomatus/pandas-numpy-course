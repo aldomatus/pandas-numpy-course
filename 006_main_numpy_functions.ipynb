{
 "cells": [
  {
   "cell_type": "markdown",
   "id": "03b3d7f1-2c17-481d-ba4c-a961c7313379",
   "metadata": {},
   "source": [
    "# Main functions of Numpy"
   ]
  },
  {
   "cell_type": "code",
   "execution_count": 83,
   "id": "0c6e24e1-1377-47ad-9523-e5f6b28edb4f",
   "metadata": {},
   "outputs": [
    {
     "data": {
      "text/plain": [
       "array([ 6, 18,  3,  2,  5,  2, 10,  1, 13, 10])"
      ]
     },
     "execution_count": 83,
     "metadata": {},
     "output_type": "execute_result"
    }
   ],
   "source": [
    "import numpy as np\n",
    "\n",
    "vector = np.random.randint(1,20, 10)\n",
    "vector"
   ]
  },
  {
   "cell_type": "code",
   "execution_count": 84,
   "id": "d095d092-23f5-4a7f-bff5-c81fea04d6cc",
   "metadata": {},
   "outputs": [
    {
     "data": {
      "text/plain": [
       "array([[ 6, 18,  3,  2,  5],\n",
       "       [ 2, 10,  1, 13, 10]])"
      ]
     },
     "execution_count": 84,
     "metadata": {},
     "output_type": "execute_result"
    }
   ],
   "source": [
    "matrix = vector.reshape(2, 5)\n",
    "matrix"
   ]
  },
  {
   "cell_type": "markdown",
   "id": "a5229b8e-d038-48d8-8aa4-60c5b2299f2b",
   "metadata": {},
   "source": [
    "### Max number in an array"
   ]
  },
  {
   "cell_type": "code",
   "execution_count": 85,
   "id": "9944fb93-0375-437a-9aa9-3de458fadad6",
   "metadata": {},
   "outputs": [
    {
     "data": {
      "text/plain": [
       "18"
      ]
     },
     "execution_count": 85,
     "metadata": {},
     "output_type": "execute_result"
    }
   ],
   "source": [
    "vector.max()"
   ]
  },
  {
   "cell_type": "code",
   "execution_count": 86,
   "id": "c5aee9e9-c755-4657-a19b-157c066395dc",
   "metadata": {},
   "outputs": [
    {
     "name": "stdout",
     "output_type": "stream",
     "text": [
      "[[ 6 18  3  2  5]\n",
      " [ 2 10  1 13 10]]\n"
     ]
    },
    {
     "data": {
      "text/plain": [
       "array([ 6, 18,  3, 13, 10])"
      ]
     },
     "execution_count": 86,
     "metadata": {},
     "output_type": "execute_result"
    }
   ],
   "source": [
    "print(matrix)\n",
    "matrix.max(0)  # The max number by column"
   ]
  },
  {
   "cell_type": "code",
   "execution_count": 87,
   "id": "9bcb8e4d-9e9f-438a-901f-220f631f5073",
   "metadata": {},
   "outputs": [
    {
     "name": "stdout",
     "output_type": "stream",
     "text": [
      "vector:  [ 6 18  3  2  5  2 10  1 13 10]\n"
     ]
    },
    {
     "data": {
      "text/plain": [
       "1"
      ]
     },
     "execution_count": 87,
     "metadata": {},
     "output_type": "execute_result"
    }
   ],
   "source": [
    "print(\"vector: \", vector)\n",
    "vector.argmax()  # The position where our max value is"
   ]
  },
  {
   "cell_type": "code",
   "execution_count": 88,
   "id": "3b079515-5a81-4d00-a5da-e2e6e6556ad6",
   "metadata": {},
   "outputs": [
    {
     "name": "stdout",
     "output_type": "stream",
     "text": [
      "matrix:  [[ 6 18  3  2  5]\n",
      " [ 2 10  1 13 10]]\n"
     ]
    },
    {
     "data": {
      "text/plain": [
       "array([0, 0, 0, 1, 1])"
      ]
     },
     "execution_count": 88,
     "metadata": {},
     "output_type": "execute_result"
    }
   ],
   "source": [
    "print(\"matrix: \", matrix)\n",
    "matrix.argmax(0)  # finding the indices of the max value along axis 0 (the column-wise axis)"
   ]
  },
  {
   "cell_type": "markdown",
   "id": "7aecbf1e-6a4a-438e-a384-d2a13226122f",
   "metadata": {},
   "source": [
    "### Minimum number in an array"
   ]
  },
  {
   "cell_type": "code",
   "execution_count": 89,
   "id": "cf362352-12cc-423e-b608-5bb2d45ee233",
   "metadata": {},
   "outputs": [
    {
     "name": "stdout",
     "output_type": "stream",
     "text": [
      "[ 6 18  3  2  5  2 10  1 13 10]\n",
      "minimum value:  1\n",
      "The min value position:  7\n"
     ]
    }
   ],
   "source": [
    "print(vector)\n",
    "print(\"minimum value: \", vector.min())\n",
    "print(\"The min value position: \", vector.argmin())"
   ]
  },
  {
   "cell_type": "code",
   "execution_count": 90,
   "id": "00f08fd1-a82d-47e5-a322-e19cd6035db3",
   "metadata": {},
   "outputs": [
    {
     "name": "stdout",
     "output_type": "stream",
     "text": [
      "[[ 6 18  3  2  5]\n",
      " [ 2 10  1 13 10]]\n",
      "minimum value:  [ 2 10  1  2  5]\n",
      "The min value position:  [1 1 1 0 0]\n"
     ]
    }
   ],
   "source": [
    "print(matrix)\n",
    "print(\"minimum value: \", matrix.min(0)) # finding the indices of the min value along axis 0 (the column-wise axis)\n",
    "print(\"The min value position: \", matrix.argmin(0))"
   ]
  },
  {
   "cell_type": "markdown",
   "id": "135a6f03-6dfe-4ccd-8b8c-ea48730e5624",
   "metadata": {},
   "source": [
    "### The difference between the maximum value minus the minimum value"
   ]
  },
  {
   "cell_type": "code",
   "execution_count": 91,
   "id": "ab441d6a-d8c1-4e59-aee1-26cc6d8f5849",
   "metadata": {},
   "outputs": [
    {
     "name": "stdout",
     "output_type": "stream",
     "text": [
      "[ 6 18  3  2  5  2 10  1 13 10]\n",
      "peak to peak value (max - min):  17\n"
     ]
    }
   ],
   "source": [
    "print(vector)\n",
    "print(\"peak to peak value (max - min): \", vector.ptp())"
   ]
  },
  {
   "cell_type": "code",
   "execution_count": 92,
   "id": "012566cb-b086-4e3d-b717-c27511044e8b",
   "metadata": {},
   "outputs": [
    {
     "name": "stdout",
     "output_type": "stream",
     "text": [
      "[[ 6 18  3  2  5]\n",
      " [ 2 10  1 13 10]]\n",
      "max - min of each column [ 4  8  2 11  5]\n"
     ]
    }
   ],
   "source": [
    "print(matrix)\n",
    "print(\"max - min of each column\", matrix.ptp(0))"
   ]
  },
  {
   "cell_type": "markdown",
   "id": "209237f2-ad6c-447a-8239-5d02aea74e5b",
   "metadata": {},
   "source": [
    "### Percentile"
   ]
  },
  {
   "cell_type": "code",
   "execution_count": 93,
   "id": "b12e44f4-c0c4-4799-b6f2-a5796156b5fe",
   "metadata": {},
   "outputs": [
    {
     "name": "stdout",
     "output_type": "stream",
     "text": [
      "[ 1  2  2  3  5  6 10 10 13 18]\n",
      "Percentile 50:  5.5\n",
      "median:  5.5\n"
     ]
    }
   ],
   "source": [
    "vector.sort()\n",
    "print(vector)\n",
    "print(\"Percentile 50: \", np.percentile(vector, 50))\n",
    "print(\"median: \", np.median(vector))"
   ]
  },
  {
   "cell_type": "code",
   "execution_count": 94,
   "id": "c07b2594-d59d-4172-b3db-fe0fb32834dc",
   "metadata": {},
   "outputs": [
    {
     "name": "stdout",
     "output_type": "stream",
     "text": [
      "[[ 1  2  2  3  5]\n",
      " [ 6 10 10 13 18]]\n",
      "Percentile 50:  5.5\n"
     ]
    }
   ],
   "source": [
    "print(matrix)\n",
    "print(\"Percentile 50: \", np.percentile(matrix, 50))"
   ]
  },
  {
   "cell_type": "code",
   "execution_count": 95,
   "id": "abf874a3-88b9-4cdc-98f7-468d0b1ec1d9",
   "metadata": {},
   "outputs": [
    {
     "name": "stdout",
     "output_type": "stream",
     "text": [
      "[[ 1  2  2  3  5]\n",
      " [ 6 10 10 13 18]]\n",
      "median by column [ 3.5  6.   6.   8.  11.5]\n"
     ]
    }
   ],
   "source": [
    "print(matrix)\n",
    "print(\"median by column\", np.median(matrix, 0))"
   ]
  },
  {
   "cell_type": "markdown",
   "id": "11997af9-b8d0-4b06-bd7f-d4caeb01475a",
   "metadata": {},
   "source": [
    "### Standard deviation, Variance, Mean"
   ]
  },
  {
   "cell_type": "code",
   "execution_count": 96,
   "id": "4646e09c-a646-401c-a164-4d88dcf18d79",
   "metadata": {},
   "outputs": [
    {
     "name": "stdout",
     "output_type": "stream",
     "text": [
      "[ 1  2  2  3  5  6 10 10 13 18]\n"
     ]
    },
    {
     "data": {
      "text/plain": [
       "5.310367218940701"
      ]
     },
     "execution_count": 96,
     "metadata": {},
     "output_type": "execute_result"
    }
   ],
   "source": [
    "print(vector)\n",
    "np.std(vector)  # Standard Deviation ** 2 =  Variance"
   ]
  },
  {
   "cell_type": "code",
   "execution_count": 97,
   "id": "2f9003bd-dbe2-4fe3-8a2d-2878216e0a8d",
   "metadata": {},
   "outputs": [
    {
     "name": "stdout",
     "output_type": "stream",
     "text": [
      "Variance:  28.2\n"
     ]
    }
   ],
   "source": [
    "print(\"Variance: \", np.var(vector))"
   ]
  },
  {
   "cell_type": "code",
   "execution_count": 98,
   "id": "ad1be571-179c-4a2d-935f-a5bd6e862fce",
   "metadata": {},
   "outputs": [
    {
     "name": "stdout",
     "output_type": "stream",
     "text": [
      "Mean:  7.0\n"
     ]
    }
   ],
   "source": [
    "print(\"Mean: \", np.mean(vector))"
   ]
  },
  {
   "cell_type": "markdown",
   "id": "b0a8c3ea-7d88-4e3b-8382-ecef47df8020",
   "metadata": {},
   "source": [
    "### Concatenate"
   ]
  },
  {
   "cell_type": "code",
   "execution_count": 105,
   "id": "938b09e3-d9b5-469f-934e-e2c789b8f14b",
   "metadata": {},
   "outputs": [
    {
     "name": "stdout",
     "output_type": "stream",
     "text": [
      "a:  [[1 2]\n",
      " [3 4]]\n",
      "b:  [5 6]\n"
     ]
    }
   ],
   "source": [
    "a = np.array([[1, 2], [3, 4]])\n",
    "b = np.array([5, 6])\n",
    "\n",
    "print(\"a: \", a)\n",
    "print(\"b: \", b)"
   ]
  },
  {
   "cell_type": "code",
   "execution_count": 106,
   "id": "916d1a6b-197a-4a10-9d2b-6c2fa2dcf8ba",
   "metadata": {},
   "outputs": [
    {
     "name": "stdout",
     "output_type": "stream",
     "text": [
      "a dimensions: 2 \n",
      "b dimensions: 1\n"
     ]
    }
   ],
   "source": [
    "print(f\"a dimensions: {a.ndim} \\nb dimensions: {b.ndim}\")"
   ]
  },
  {
   "cell_type": "code",
   "execution_count": 107,
   "id": "6857708a-408a-46e1-bb60-9db00bd119b2",
   "metadata": {},
   "outputs": [],
   "source": [
    "reshaped_b = b.reshape(1,2)"
   ]
  },
  {
   "cell_type": "code",
   "execution_count": 108,
   "id": "c7632cf8-c797-46bd-bc94-db500cd95da0",
   "metadata": {},
   "outputs": [
    {
     "data": {
      "text/plain": [
       "array([[1, 2],\n",
       "       [3, 4],\n",
       "       [5, 6]])"
      ]
     },
     "execution_count": 108,
     "metadata": {},
     "output_type": "execute_result"
    }
   ],
   "source": [
    "np.concatenate((a, reshaped_b), axis=0)"
   ]
  },
  {
   "cell_type": "code",
   "execution_count": 109,
   "id": "5c09ebd2-7ba0-4ce1-a5ff-4cfb18df8507",
   "metadata": {},
   "outputs": [
    {
     "name": "stdout",
     "output_type": "stream",
     "text": [
      "[[1 2]\n",
      " [3 4]]\n",
      "[[5 6]]\n",
      "[[5]\n",
      " [6]]\n"
     ]
    },
    {
     "data": {
      "text/plain": [
       "array([[1, 2, 5],\n",
       "       [3, 4, 6]])"
      ]
     },
     "execution_count": 109,
     "metadata": {},
     "output_type": "execute_result"
    }
   ],
   "source": [
    "b = np.expand_dims(b, axis=0)\n",
    "print(a)\n",
    "print(b)\n",
    "print(b.T)\n",
    "np.concatenate((a, b.T), axis=1)"
   ]
  },
  {
   "cell_type": "code",
   "execution_count": null,
   "id": "e750325d-fa49-4a90-9080-5bbb1018b16b",
   "metadata": {},
   "outputs": [],
   "source": []
  },
  {
   "cell_type": "code",
   "execution_count": null,
   "id": "db8ec676-5498-41e5-9eae-c576df66d2dd",
   "metadata": {},
   "outputs": [],
   "source": []
  },
  {
   "cell_type": "code",
   "execution_count": null,
   "id": "c89a544e-2e2b-4e6a-ac82-05a973858a72",
   "metadata": {},
   "outputs": [],
   "source": []
  }
 ],
 "metadata": {
  "kernelspec": {
   "display_name": "Python 3 (ipykernel)",
   "language": "python",
   "name": "python3"
  },
  "language_info": {
   "codemirror_mode": {
    "name": "ipython",
    "version": 3
   },
   "file_extension": ".py",
   "mimetype": "text/x-python",
   "name": "python",
   "nbconvert_exporter": "python",
   "pygments_lexer": "ipython3",
   "version": "3.8.13"
  }
 },
 "nbformat": 4,
 "nbformat_minor": 5
}
