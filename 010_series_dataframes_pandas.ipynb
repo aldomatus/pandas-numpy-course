{
 "cells": [
  {
   "cell_type": "code",
   "execution_count": 2,
   "id": "2b9473d9-11ab-42ca-ae7b-5fcfae4fea5c",
   "metadata": {},
   "outputs": [],
   "source": [
    "import pandas as pd"
   ]
  },
  {
   "cell_type": "code",
   "execution_count": 4,
   "id": "f43f590f-3819-4b42-84df-c49c36784ce4",
   "metadata": {},
   "outputs": [
    {
     "data": {
      "text/plain": [
       "1      Navas\n",
       "7     Mbappe\n",
       "10    Neymar\n",
       "30     Messi\n",
       "dtype: object"
      ]
     },
     "execution_count": 4,
     "metadata": {},
     "output_type": "execute_result"
    }
   ],
   "source": [
    "psg_players = pd.Series([\"Navas\", \"Mbappe\", \"Neymar\", \"Messi\"], index=[1,7,10,30])\n",
    "psg_players"
   ]
  },
  {
   "cell_type": "code",
   "execution_count": 5,
   "id": "56f89598-4c56-4320-906f-180d2525dd6e",
   "metadata": {},
   "outputs": [
    {
     "data": {
      "text/plain": [
       "0     Navas\n",
       "1    Mbappe\n",
       "2    Neymar\n",
       "3     Messi\n",
       "dtype: object"
      ]
     },
     "execution_count": 5,
     "metadata": {},
     "output_type": "execute_result"
    }
   ],
   "source": [
    "pd.Series([\"Navas\", \"Mbappe\", \"Neymar\", \"Messi\"])"
   ]
  },
  {
   "cell_type": "code",
   "execution_count": 7,
   "id": "7efeb003-b74a-4005-abf6-ffa62c2cd246",
   "metadata": {},
   "outputs": [],
   "source": [
    "players_dict = {1:\"Navas\", 7:\"Mbappe\", 10:\"Neymar\", 30:\"Messi\"}"
   ]
  },
  {
   "cell_type": "code",
   "execution_count": 8,
   "id": "839ca4fc-2e70-453c-83e4-d3d2c56d39c3",
   "metadata": {},
   "outputs": [
    {
     "data": {
      "text/plain": [
       "1      Navas\n",
       "7     Mbappe\n",
       "10    Neymar\n",
       "30     Messi\n",
       "dtype: object"
      ]
     },
     "execution_count": 8,
     "metadata": {},
     "output_type": "execute_result"
    }
   ],
   "source": [
    "pd.Series(players_dict)"
   ]
  },
  {
   "cell_type": "code",
   "execution_count": 10,
   "id": "d95c52a6-8bc2-4825-b9ae-ce44a4aa89ce",
   "metadata": {},
   "outputs": [
    {
     "data": {
      "text/plain": [
       "'Mbappe'"
      ]
     },
     "execution_count": 10,
     "metadata": {},
     "output_type": "execute_result"
    }
   ],
   "source": [
    "psg_players[7]"
   ]
  },
  {
   "cell_type": "code",
   "execution_count": 15,
   "id": "e02f9301-df78-4e27-9ae2-4352ffcdfd28",
   "metadata": {},
   "outputs": [
    {
     "name": "stdout",
     "output_type": "stream",
     "text": [
      "0     Navas\n",
      "1    Mbappe\n",
      "2    Neymar\n",
      "3     Messi\n",
      "dtype: object\n",
      "\n",
      "slice: \n",
      " 0     Navas\n",
      "1    Mbappe\n",
      "2    Neymar\n",
      "dtype: object\n"
     ]
    }
   ],
   "source": [
    "psg_players = pd.Series([\"Navas\", \"Mbappe\", \"Neymar\", \"Messi\"])\n",
    "print(psg_players, end=\"\\n\\n\")\n",
    "print(\"slice: \\n\", psg_players[0:3])"
   ]
  },
  {
   "cell_type": "code",
   "execution_count": 17,
   "id": "975235eb-7263-42d3-b875-f76553874f79",
   "metadata": {},
   "outputs": [
    {
     "data": {
      "text/plain": [
       "{'player': ['Navas', 'Mbappe', 'Neymar', 'Messi'],\n",
       " 'height': [183.0, 185.0, 180.0, 170.0],\n",
       " 'goals': [2, 2, 2, 2]}"
      ]
     },
     "execution_count": 17,
     "metadata": {},
     "output_type": "execute_result"
    }
   ],
   "source": [
    "players_dict = {\"player\": [\"Navas\", \"Mbappe\", \"Neymar\", \"Messi\"],\n",
    " \"height\": [183.0, 185.0, 180.0, 170.0],\n",
    " \"goals\": [2, 2, 2, 2]\n",
    "}\n",
    "players_dict"
   ]
  },
  {
   "cell_type": "code",
   "execution_count": 23,
   "id": "d90d0ac8-9d8f-4602-9f1d-2363ccc76025",
   "metadata": {},
   "outputs": [
    {
     "data": {
      "text/html": [
       "<div>\n",
       "<style scoped>\n",
       "    .dataframe tbody tr th:only-of-type {\n",
       "        vertical-align: middle;\n",
       "    }\n",
       "\n",
       "    .dataframe tbody tr th {\n",
       "        vertical-align: top;\n",
       "    }\n",
       "\n",
       "    .dataframe thead th {\n",
       "        text-align: right;\n",
       "    }\n",
       "</style>\n",
       "<table border=\"1\" class=\"dataframe\">\n",
       "  <thead>\n",
       "    <tr style=\"text-align: right;\">\n",
       "      <th></th>\n",
       "      <th>player</th>\n",
       "      <th>height</th>\n",
       "      <th>goals</th>\n",
       "    </tr>\n",
       "  </thead>\n",
       "  <tbody>\n",
       "    <tr>\n",
       "      <th>1</th>\n",
       "      <td>Navas</td>\n",
       "      <td>183.0</td>\n",
       "      <td>2</td>\n",
       "    </tr>\n",
       "    <tr>\n",
       "      <th>7</th>\n",
       "      <td>Mbappe</td>\n",
       "      <td>185.0</td>\n",
       "      <td>2</td>\n",
       "    </tr>\n",
       "    <tr>\n",
       "      <th>10</th>\n",
       "      <td>Neymar</td>\n",
       "      <td>180.0</td>\n",
       "      <td>2</td>\n",
       "    </tr>\n",
       "    <tr>\n",
       "      <th>30</th>\n",
       "      <td>Messi</td>\n",
       "      <td>170.0</td>\n",
       "      <td>2</td>\n",
       "    </tr>\n",
       "  </tbody>\n",
       "</table>\n",
       "</div>"
      ],
      "text/plain": [
       "    player  height  goals\n",
       "1    Navas   183.0      2\n",
       "7   Mbappe   185.0      2\n",
       "10  Neymar   180.0      2\n",
       "30   Messi   170.0      2"
      ]
     },
     "execution_count": 23,
     "metadata": {},
     "output_type": "execute_result"
    }
   ],
   "source": [
    "df_players = pd.DataFrame(players_dict, index=[1,7,10,30])\n",
    "df_players"
   ]
  },
  {
   "cell_type": "code",
   "execution_count": 21,
   "id": "6eecea41-44ac-44d0-b7d1-a863d881a8c9",
   "metadata": {},
   "outputs": [
    {
     "data": {
      "text/plain": [
       "Index(['player', 'height', 'goals'], dtype='object')"
      ]
     },
     "execution_count": 21,
     "metadata": {},
     "output_type": "execute_result"
    }
   ],
   "source": [
    "df_players.columns"
   ]
  },
  {
   "cell_type": "code",
   "execution_count": 22,
   "id": "c04de4ff-7ce0-4507-8bf7-adfb9f10d86f",
   "metadata": {},
   "outputs": [
    {
     "data": {
      "text/plain": [
       "Index([1, 7, 10, 30], dtype='int64')"
      ]
     },
     "execution_count": 22,
     "metadata": {},
     "output_type": "execute_result"
    }
   ],
   "source": [
    "df_players.index"
   ]
  },
  {
   "cell_type": "code",
   "execution_count": null,
   "id": "aa18b30c-1f27-4276-89ae-53c695b1b331",
   "metadata": {},
   "outputs": [],
   "source": []
  }
 ],
 "metadata": {
  "kernelspec": {
   "display_name": "Python 3 (ipykernel)",
   "language": "python",
   "name": "python3"
  },
  "language_info": {
   "codemirror_mode": {
    "name": "ipython",
    "version": 3
   },
   "file_extension": ".py",
   "mimetype": "text/x-python",
   "name": "python",
   "nbconvert_exporter": "python",
   "pygments_lexer": "ipython3",
   "version": "3.8.13"
  }
 },
 "nbformat": 4,
 "nbformat_minor": 5
}
