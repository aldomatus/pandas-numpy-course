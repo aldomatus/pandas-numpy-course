{
 "cells": [
  {
   "cell_type": "code",
   "execution_count": 1,
   "id": "22d3c1f9-9e01-4649-a6da-e588625e32c1",
   "metadata": {},
   "outputs": [],
   "source": [
    "import numpy as np"
   ]
  },
  {
   "cell_type": "code",
   "execution_count": 7,
   "id": "76456f14-3667-4bcf-8702-248ad904cfcd",
   "metadata": {},
   "outputs": [
    {
     "data": {
      "text/plain": [
       "array([[7, 2],\n",
       "       [8, 1],\n",
       "       [4, 6]])"
      ]
     },
     "execution_count": 7,
     "metadata": {},
     "output_type": "execute_result"
    }
   ],
   "source": [
    "arr = np.random.randint(1, 10, (3,2))\n",
    "arr"
   ]
  },
  {
   "cell_type": "code",
   "execution_count": 5,
   "id": "0a12c7e3-f76c-4804-8bd9-d1404abaef65",
   "metadata": {},
   "outputs": [
    {
     "data": {
      "text/plain": [
       "(3, 2)"
      ]
     },
     "execution_count": 5,
     "metadata": {},
     "output_type": "execute_result"
    }
   ],
   "source": [
    "arr.shape"
   ]
  },
  {
   "cell_type": "code",
   "execution_count": 8,
   "id": "241777e1-00cb-4ef4-8b50-ea3352fdde89",
   "metadata": {},
   "outputs": [
    {
     "data": {
      "text/plain": [
       "array([[7, 2, 8, 1, 4, 6]])"
      ]
     },
     "execution_count": 8,
     "metadata": {},
     "output_type": "execute_result"
    }
   ],
   "source": [
    "arr.reshape(1,6)"
   ]
  },
  {
   "cell_type": "code",
   "execution_count": 10,
   "id": "5ef55b3e-00a8-4d13-9757-9d143254082c",
   "metadata": {},
   "outputs": [
    {
     "data": {
      "text/plain": [
       "array([[7, 2, 8],\n",
       "       [1, 4, 6]])"
      ]
     },
     "execution_count": 10,
     "metadata": {},
     "output_type": "execute_result"
    }
   ],
   "source": [
    "arr.reshape(2,3)"
   ]
  },
  {
   "cell_type": "code",
   "execution_count": 11,
   "id": "95111ee9-eb6f-43eb-bc12-8eee5357986d",
   "metadata": {},
   "outputs": [
    {
     "data": {
      "text/plain": [
       "array([[7, 2, 8, 1, 4, 6]])"
      ]
     },
     "execution_count": 11,
     "metadata": {},
     "output_type": "execute_result"
    }
   ],
   "source": [
    "np.reshape(arr, (1,6))"
   ]
  },
  {
   "cell_type": "code",
   "execution_count": 14,
   "id": "ba4ea0b5-ac51-4639-8619-c65dc321e525",
   "metadata": {},
   "outputs": [
    {
     "data": {
      "text/plain": [
       "array([[7, 2],\n",
       "       [8, 1],\n",
       "       [4, 6]])"
      ]
     },
     "execution_count": 14,
     "metadata": {},
     "output_type": "execute_result"
    }
   ],
   "source": [
    "arr"
   ]
  },
  {
   "cell_type": "code",
   "execution_count": 12,
   "id": "8928eabd-1a59-4817-8be7-127723cda340",
   "metadata": {},
   "outputs": [
    {
     "data": {
      "text/plain": [
       "array([[7, 2, 8],\n",
       "       [1, 4, 6]])"
      ]
     },
     "execution_count": 12,
     "metadata": {},
     "output_type": "execute_result"
    }
   ],
   "source": [
    "np.reshape(arr, (2,3), \"C\")  # Using C programming language"
   ]
  },
  {
   "cell_type": "code",
   "execution_count": 13,
   "id": "94e128d6-f6d1-4396-9d8f-80ed588f63d0",
   "metadata": {},
   "outputs": [
    {
     "data": {
      "text/plain": [
       "array([[7, 4, 1],\n",
       "       [8, 2, 6]])"
      ]
     },
     "execution_count": 13,
     "metadata": {},
     "output_type": "execute_result"
    }
   ],
   "source": [
    "np.reshape(arr, (2,3), \"F\")  # Using Fortran programming language"
   ]
  },
  {
   "cell_type": "code",
   "execution_count": 15,
   "id": "27ee9393-c367-4845-ac65-8edaa1089e29",
   "metadata": {},
   "outputs": [
    {
     "data": {
      "text/plain": [
       "array([[7, 2, 8],\n",
       "       [1, 4, 6]])"
      ]
     },
     "execution_count": 15,
     "metadata": {},
     "output_type": "execute_result"
    }
   ],
   "source": [
    "np.reshape(arr, (2,3), \"A\")  # Using the storage optimization in my system"
   ]
  },
  {
   "cell_type": "markdown",
   "id": "daafddb8-718a-4177-9447-51757d3da28a",
   "metadata": {},
   "source": [
    "## Create an array and change its dimensions\n",
    "### Attempt to change the array in a way that does not respect the original structure"
   ]
  },
  {
   "cell_type": "code",
   "execution_count": 21,
   "id": "2f5c7b97-74d9-4e98-877a-a60ca66dcd98",
   "metadata": {},
   "outputs": [
    {
     "data": {
      "text/plain": [
       "array([[0, 6, 7],\n",
       "       [1, 6, 5],\n",
       "       [2, 5, 2]])"
      ]
     },
     "execution_count": 21,
     "metadata": {},
     "output_type": "execute_result"
    }
   ],
   "source": [
    "my_arr = np.random.randint(0,10, (3, 3))\n",
    "my_arr"
   ]
  },
  {
   "cell_type": "code",
   "execution_count": 23,
   "id": "1dee7b36-b3c2-42d8-aa28-416a20f05dc9",
   "metadata": {},
   "outputs": [
    {
     "data": {
      "text/plain": [
       "array([[0, 6, 7, 1, 6, 5, 2, 5, 2]])"
      ]
     },
     "execution_count": 23,
     "metadata": {},
     "output_type": "execute_result"
    }
   ],
   "source": [
    "my_arr.reshape(1,9)"
   ]
  },
  {
   "cell_type": "code",
   "execution_count": 24,
   "id": "c1b51143-8b2e-4cce-9e51-cbb279ab0084",
   "metadata": {},
   "outputs": [
    {
     "data": {
      "text/plain": [
       "array([[0],\n",
       "       [6],\n",
       "       [7],\n",
       "       [1],\n",
       "       [6],\n",
       "       [5],\n",
       "       [2],\n",
       "       [5],\n",
       "       [2]])"
      ]
     },
     "execution_count": 24,
     "metadata": {},
     "output_type": "execute_result"
    }
   ],
   "source": [
    "my_arr.reshape(9,1)"
   ]
  },
  {
   "cell_type": "code",
   "execution_count": 25,
   "id": "04ae9372-f00e-4c14-ba69-a7c281a8cf2e",
   "metadata": {},
   "outputs": [
    {
     "ename": "ValueError",
     "evalue": "cannot reshape array of size 9 into shape (10,1)",
     "output_type": "error",
     "traceback": [
      "\u001b[0;31m---------------------------------------------------------------------------\u001b[0m",
      "\u001b[0;31mValueError\u001b[0m                                Traceback (most recent call last)",
      "Cell \u001b[0;32mIn[25], line 1\u001b[0m\n\u001b[0;32m----> 1\u001b[0m \u001b[43mmy_arr\u001b[49m\u001b[38;5;241;43m.\u001b[39;49m\u001b[43mreshape\u001b[49m\u001b[43m(\u001b[49m\u001b[38;5;241;43m10\u001b[39;49m\u001b[43m,\u001b[49m\u001b[38;5;241;43m1\u001b[39;49m\u001b[43m)\u001b[49m\n",
      "\u001b[0;31mValueError\u001b[0m: cannot reshape array of size 9 into shape (10,1)"
     ]
    }
   ],
   "source": [
    "my_arr.reshape(10,1)"
   ]
  },
  {
   "cell_type": "markdown",
   "id": "903fb942-94e6-4aa4-92b6-e564f6827a9b",
   "metadata": {},
   "source": [
    "## Exercises: Understanding Shapes"
   ]
  },
  {
   "cell_type": "markdown",
   "id": "a920e7a2-3c63-453b-b5f1-60aed855c7a6",
   "metadata": {},
   "source": [
    "##### 1. Create a 1D array with elements from 1 to 10. Print its shape."
   ]
  },
  {
   "cell_type": "code",
   "execution_count": 48,
   "id": "397943a7-1e2d-4731-8c49-a63c48590394",
   "metadata": {},
   "outputs": [
    {
     "name": "stdout",
     "output_type": "stream",
     "text": [
      "[8 8 1 1 2 5 8 1 1 8]\n"
     ]
    },
    {
     "data": {
      "text/plain": [
       "1"
      ]
     },
     "execution_count": 48,
     "metadata": {},
     "output_type": "execute_result"
    }
   ],
   "source": [
    "array_1d = np.random.randint(1,10, (10))\n",
    "print(array_1d)\n",
    "array_1d.ndim"
   ]
  },
  {
   "cell_type": "markdown",
   "id": "3aaf6084-ef28-4d95-a656-dc8f0431e197",
   "metadata": {},
   "source": [
    "##### 2. Create a 2D array of shape (5, 2) with elements from 11 to 20. "
   ]
  },
  {
   "cell_type": "code",
   "execution_count": 44,
   "id": "f38ad41f-7937-4bf4-8ffa-f2d6e84654ec",
   "metadata": {},
   "outputs": [
    {
     "name": "stdout",
     "output_type": "stream",
     "text": [
      "[[11 17]\n",
      " [12 17]\n",
      " [19 13]\n",
      " [18 19]\n",
      " [19 13]]\n"
     ]
    },
    {
     "data": {
      "text/plain": [
       "2"
      ]
     },
     "execution_count": 44,
     "metadata": {},
     "output_type": "execute_result"
    }
   ],
   "source": [
    "array_2d = np.random.randint(11,20, (5,2))\n",
    "print(array_2d)\n",
    "array_2d.ndim"
   ]
  },
  {
   "cell_type": "markdown",
   "id": "33b97e0e-2b50-4fec-acee-0cbc82a2467f",
   "metadata": {},
   "source": [
    "##### 3. Create a 3D array of shape (2, 3, 4) with random integers between 1 to 50. Print its shape."
   ]
  },
  {
   "cell_type": "code",
   "execution_count": 46,
   "id": "17895bee-116e-4173-bf78-d41aaa888ba8",
   "metadata": {},
   "outputs": [
    {
     "name": "stdout",
     "output_type": "stream",
     "text": [
      "[[[12 35 36 43]\n",
      "  [ 1 46  5 43]\n",
      "  [29  7 13 25]]\n",
      "\n",
      " [[38 11 40 17]\n",
      "  [ 3 44 45 21]\n",
      "  [29 34 29 18]]]\n"
     ]
    },
    {
     "data": {
      "text/plain": [
       "3"
      ]
     },
     "execution_count": 46,
     "metadata": {},
     "output_type": "execute_result"
    }
   ],
   "source": [
    "array_3d = np.random.randint(1, 50, (2,3,4))\n",
    "print(array_3d)\n",
    "array_3d.ndim"
   ]
  },
  {
   "cell_type": "markdown",
   "id": "28e25d7c-641b-45c5-8846-479913fb529e",
   "metadata": {},
   "source": [
    "## Exercises: Basic Reshaping"
   ]
  },
  {
   "cell_type": "markdown",
   "id": "993825d6-6eea-4a56-b011-04c8866d32bf",
   "metadata": {},
   "source": [
    "##### 1. Reshape the 1D array you created in Exercise 1 to have a shape (5, 2). Print the new array."
   ]
  },
  {
   "cell_type": "code",
   "execution_count": 49,
   "id": "e37f4b49-dd57-47e5-aabb-72bdba94752e",
   "metadata": {},
   "outputs": [
    {
     "data": {
      "text/plain": [
       "array([[8, 8],\n",
       "       [1, 1],\n",
       "       [2, 5],\n",
       "       [8, 1],\n",
       "       [1, 8]])"
      ]
     },
     "execution_count": 49,
     "metadata": {},
     "output_type": "execute_result"
    }
   ],
   "source": [
    "array_1d.reshape(5,2)"
   ]
  },
  {
   "cell_type": "markdown",
   "id": "b077e4b7-e7fa-47f9-967a-dabf8ca2ce5a",
   "metadata": {},
   "source": [
    "##### 2. Reshape the 2D array you created in Exercise 1 to be a 1D array. Print the new array."
   ]
  },
  {
   "cell_type": "code",
   "execution_count": 57,
   "id": "c833b257-b832-4000-b72d-8609e2699315",
   "metadata": {},
   "outputs": [
    {
     "name": "stdout",
     "output_type": "stream",
     "text": [
      "[11 17 12 17 19 13 18 19 19 13]\n",
      "1\n"
     ]
    }
   ],
   "source": [
    "array_2d_to_1d = array_2d.reshape(10)\n",
    "print(array_2d_to_1d)\n",
    "print(array_2d_to_1d.ndim)"
   ]
  },
  {
   "cell_type": "markdown",
   "id": "70f8d52c-30ac-4787-889a-a74f87cbfda0",
   "metadata": {},
   "source": [
    "## Exercises: Advanced Reshaping"
   ]
  },
  {
   "cell_type": "markdown",
   "id": "a238efb1-a452-476f-a07a-458347fdee93",
   "metadata": {},
   "source": [
    "##### 1. Convert the 2D array you created in Exercise 1 into a column vector. Print the new array and its shape."
   ]
  },
  {
   "cell_type": "code",
   "execution_count": 60,
   "id": "4762c502-c389-4235-9920-afb764b953a6",
   "metadata": {},
   "outputs": [
    {
     "name": "stdout",
     "output_type": "stream",
     "text": [
      "[[11]\n",
      " [17]\n",
      " [12]\n",
      " [17]\n",
      " [19]\n",
      " [13]\n",
      " [18]\n",
      " [19]\n",
      " [19]\n",
      " [13]]\n",
      "Dimension:  2\n"
     ]
    }
   ],
   "source": [
    "column_vector = array_2d.reshape(10,1)\n",
    "print(column_vector)\n",
    "print(\"Dimension: \", column_vector.ndim)"
   ]
  },
  {
   "cell_type": "markdown",
   "id": "1454a259-a77f-445d-9f2c-d19ac88af5e6",
   "metadata": {},
   "source": [
    "##### 2. Reshape the 3D array you created in Exercise 1 to a shape (4, 3, 2). Print the new array."
   ]
  },
  {
   "cell_type": "code",
   "execution_count": 61,
   "id": "4d086373-3373-4a00-8f2b-fe4051f7843a",
   "metadata": {},
   "outputs": [
    {
     "name": "stdout",
     "output_type": "stream",
     "text": [
      "[[[12 35]\n",
      "  [36 43]\n",
      "  [ 1 46]]\n",
      "\n",
      " [[ 5 43]\n",
      "  [29  7]\n",
      "  [13 25]]\n",
      "\n",
      " [[38 11]\n",
      "  [40 17]\n",
      "  [ 3 44]]\n",
      "\n",
      " [[45 21]\n",
      "  [29 34]\n",
      "  [29 18]]]\n",
      "Dimension:  3\n"
     ]
    }
   ],
   "source": [
    "reshaped_array = array_3d.reshape(4,3,2)\n",
    "print(reshaped_array)\n",
    "print(\"Dimension: \", reshaped_array.ndim)"
   ]
  },
  {
   "cell_type": "markdown",
   "id": "8f915ea2-2816-481a-b2df-a9201534c156",
   "metadata": {},
   "source": [
    "## Exercise 4: Using -1 in Reshape"
   ]
  },
  {
   "cell_type": "markdown",
   "id": "1907e9db-92c5-4f07-bebb-c4caca9ddd1f",
   "metadata": {},
   "source": [
    "##### 1. Use -1 to reshape the 1D array you created in Exercise 1 into a column vector. Print the new array."
   ]
  },
  {
   "cell_type": "code",
   "execution_count": 79,
   "id": "eeb92aba-edea-4419-9dea-7fc181fa27f5",
   "metadata": {},
   "outputs": [
    {
     "name": "stdout",
     "output_type": "stream",
     "text": [
      "[[8]\n",
      " [8]\n",
      " [1]\n",
      " [1]\n",
      " [2]\n",
      " [5]\n",
      " [8]\n",
      " [1]\n",
      " [1]\n",
      " [8]]\n",
      "Dimension:  2\n"
     ]
    }
   ],
   "source": [
    "new_column_vector = array_1d.reshape(-1, 1)\n",
    "print(new_column_vector)\n",
    "print(\"Dimension: \", new_column_vector.ndim)"
   ]
  },
  {
   "cell_type": "markdown",
   "id": "3d822164-4fc4-429e-9e64-73a73968837f",
   "metadata": {},
   "source": [
    "##### 2. Use -1 to reshape the 3D array you created in Exercise 1 to have 12 elements in each sub-array. Print the new array."
   ]
  },
  {
   "cell_type": "code",
   "execution_count": 72,
   "id": "064b9cbb-87d7-4f02-bbfc-de0274829187",
   "metadata": {},
   "outputs": [
    {
     "name": "stdout",
     "output_type": "stream",
     "text": [
      "[[[11 30  3  8]\n",
      "  [18 31 16 19]\n",
      "  [25 38 40 34]]\n",
      "\n",
      " [[30 42 19 35]\n",
      "  [ 6 26  2  4]\n",
      "  [ 5 17 28 41]]]\n"
     ]
    }
   ],
   "source": [
    "new_array_3d = array_3d.reshape(2, 3, -1)\n",
    "print(array_3d)"
   ]
  },
  {
   "cell_type": "markdown",
   "id": "7b4964df-c82e-4dc0-9bd4-07c8b12ce0a6",
   "metadata": {},
   "source": [
    "## Exercise 5: Challenge"
   ]
  },
  {
   "cell_type": "markdown",
   "id": "b16f7ade-2ce9-4a1f-bc87-ba2306051139",
   "metadata": {},
   "source": [
    "##### 1. Create a 4D array of shape (3, 2, 2, 4) with random integers between 1 to 100. Print its shape."
   ]
  },
  {
   "cell_type": "code",
   "execution_count": 75,
   "id": "4eed6fa5-d731-455f-8f57-d57a00b45f38",
   "metadata": {},
   "outputs": [
    {
     "name": "stdout",
     "output_type": "stream",
     "text": [
      "[[[[13 62 43 69]\n",
      "   [10 91 22 72]]\n",
      "\n",
      "  [[78  7 29 92]\n",
      "   [35 89 85 78]]]\n",
      "\n",
      "\n",
      " [[[46 40 38  5]\n",
      "   [39 34 70 86]]\n",
      "\n",
      "  [[28 74 68 61]\n",
      "   [54 82 13 32]]]\n",
      "\n",
      "\n",
      " [[[22 69 76 39]\n",
      "   [52 92 20 12]]\n",
      "\n",
      "  [[68 17  6 25]\n",
      "   [ 3 52 19 27]]]]\n",
      "Dimension:  4\n"
     ]
    }
   ],
   "source": [
    "array_4d = np.random.randint(1, 100, (3, 2, 2, 4))\n",
    "print(array_4d)\n",
    "print(\"Dimension: \", array_4d.ndim)"
   ]
  },
  {
   "cell_type": "markdown",
   "id": "0b13954b-d859-4d6e-84b2-0d966ec84247",
   "metadata": {},
   "source": [
    "##### 2. Reshape this 4D array into a 2D array of shape (12, 4). Print the new array."
   ]
  },
  {
   "cell_type": "code",
   "execution_count": 78,
   "id": "89d60ebb-b3dc-4ba7-8d2d-e32c288329a6",
   "metadata": {},
   "outputs": [
    {
     "name": "stdout",
     "output_type": "stream",
     "text": [
      "[[13 62 43 69]\n",
      " [10 91 22 72]\n",
      " [78  7 29 92]\n",
      " [35 89 85 78]\n",
      " [46 40 38  5]\n",
      " [39 34 70 86]\n",
      " [28 74 68 61]\n",
      " [54 82 13 32]\n",
      " [22 69 76 39]\n",
      " [52 92 20 12]\n",
      " [68 17  6 25]\n",
      " [ 3 52 19 27]]\n",
      "Dimension:  2\n"
     ]
    }
   ],
   "source": [
    "array_4d_to_2d = array_4d.reshape(12,4)\n",
    "print(array_4d_to_2d)\n",
    "print(\"Dimension: \", array_4d_to_2d.ndim)"
   ]
  }
 ],
 "metadata": {
  "kernelspec": {
   "display_name": "Python 3 (ipykernel)",
   "language": "python",
   "name": "python3"
  },
  "language_info": {
   "codemirror_mode": {
    "name": "ipython",
    "version": 3
   },
   "file_extension": ".py",
   "mimetype": "text/x-python",
   "name": "python",
   "nbconvert_exporter": "python",
   "pygments_lexer": "ipython3",
   "version": "3.8.13"
  }
 },
 "nbformat": 4,
 "nbformat_minor": 5
}
