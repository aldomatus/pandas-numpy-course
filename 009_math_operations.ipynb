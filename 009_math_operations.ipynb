{
 "cells": [
  {
   "cell_type": "code",
   "execution_count": 31,
   "id": "38b88582-f9f5-4bff-8b3d-8e7cb283090b",
   "metadata": {},
   "outputs": [],
   "source": [
    "import numpy as np"
   ]
  },
  {
   "cell_type": "code",
   "execution_count": 32,
   "id": "e4c6c74c-fa65-4808-8795-f6dbd0870f07",
   "metadata": {},
   "outputs": [
    {
     "data": {
      "text/plain": [
       "[1, 2]"
      ]
     },
     "execution_count": 32,
     "metadata": {},
     "output_type": "execute_result"
    }
   ],
   "source": [
    "my_list = [1, 2]\n",
    "my_list"
   ]
  },
  {
   "cell_type": "code",
   "execution_count": 33,
   "id": "92992de3-afb6-4c4b-8d68-521d9be1e18d",
   "metadata": {},
   "outputs": [
    {
     "data": {
      "text/plain": [
       "[1, 2, 1, 2]"
      ]
     },
     "execution_count": 33,
     "metadata": {},
     "output_type": "execute_result"
    }
   ],
   "source": [
    "my_list * 2"
   ]
  },
  {
   "cell_type": "code",
   "execution_count": 34,
   "id": "d6bf57b7-c38c-4926-898b-5013f0dd8fe8",
   "metadata": {},
   "outputs": [
    {
     "data": {
      "text/plain": [
       "array([0, 1, 2, 3, 4, 5, 6, 7, 8, 9])"
      ]
     },
     "execution_count": 34,
     "metadata": {},
     "output_type": "execute_result"
    }
   ],
   "source": [
    "arr = np.arange(0, 10)\n",
    "arr"
   ]
  },
  {
   "cell_type": "code",
   "execution_count": 35,
   "id": "2b61ebb2-f5d4-4661-87c0-84e669e0fab3",
   "metadata": {},
   "outputs": [
    {
     "data": {
      "text/plain": [
       "array([0, 1, 2, 3, 4, 5, 6, 7, 8, 9])"
      ]
     },
     "execution_count": 35,
     "metadata": {},
     "output_type": "execute_result"
    }
   ],
   "source": [
    "copied_arr = arr.copy()\n",
    "copied_arr"
   ]
  },
  {
   "cell_type": "markdown",
   "id": "8c6dccc2-29d9-4aa6-8161-ab49b9bedf76",
   "metadata": {},
   "source": [
    "### Operations"
   ]
  },
  {
   "cell_type": "code",
   "execution_count": 36,
   "id": "9179e0bb-f756-45a8-839e-624d3357fa76",
   "metadata": {},
   "outputs": [
    {
     "name": "stdout",
     "output_type": "stream",
     "text": [
      "[0 1 2 3 4 5 6 7 8 9]\n",
      "[ 0  2  4  6  8 10 12 14 16 18]\n"
     ]
    }
   ],
   "source": [
    "print(copied_arr)\n",
    "print(copied_arr * 2)"
   ]
  },
  {
   "cell_type": "code",
   "execution_count": 37,
   "id": "f903fcc3-15cb-4015-b631-d6f611070f21",
   "metadata": {},
   "outputs": [
    {
     "name": "stdout",
     "output_type": "stream",
     "text": [
      "[0 1 2 3 4 5 6 7 8 9]\n",
      "[ 2  3  4  5  6  7  8  9 10 11]\n"
     ]
    }
   ],
   "source": [
    "print(copied_arr)\n",
    "print(copied_arr + 2)"
   ]
  },
  {
   "cell_type": "code",
   "execution_count": 38,
   "id": "ac840350-1c76-4c67-9455-803b8b54e866",
   "metadata": {},
   "outputs": [
    {
     "name": "stderr",
     "output_type": "stream",
     "text": [
      "/var/folders/wd/jk044m6n4071_2qs36xrjw340000gn/T/ipykernel_70649/1528351372.py:1: RuntimeWarning: divide by zero encountered in divide\n",
      "  1 / arr\n"
     ]
    },
    {
     "data": {
      "text/plain": [
       "array([       inf, 1.        , 0.5       , 0.33333333, 0.25      ,\n",
       "       0.2       , 0.16666667, 0.14285714, 0.125     , 0.11111111])"
      ]
     },
     "execution_count": 38,
     "metadata": {},
     "output_type": "execute_result"
    }
   ],
   "source": [
    "1 / arr"
   ]
  },
  {
   "cell_type": "code",
   "execution_count": 39,
   "id": "3f8973a5-25f0-4abc-9a50-f22d6c2ec872",
   "metadata": {},
   "outputs": [
    {
     "name": "stdout",
     "output_type": "stream",
     "text": [
      "[0 1 2 3 4 5 6 7 8 9]\n",
      "[ 0  1  4  9 16 25 36 49 64 81]\n"
     ]
    }
   ],
   "source": [
    "print(copied_arr)\n",
    "print(copied_arr ** 2)"
   ]
  },
  {
   "cell_type": "code",
   "execution_count": 40,
   "id": "4059bcfe-b904-480e-ac24-b607cf8624f2",
   "metadata": {},
   "outputs": [
    {
     "name": "stdout",
     "output_type": "stream",
     "text": [
      "copied_array:  [0 1 2 3 4 5 6 7 8 9]\n",
      "arr:  [0 1 2 3 4 5 6 7 8 9]\n",
      "arr + copied_array:  [ 0  2  4  6  8 10 12 14 16 18]\n"
     ]
    }
   ],
   "source": [
    "print(\"copied_array: \", copied_arr)\n",
    "print(\"arr: \", arr)\n",
    "print(\"arr + copied_array: \", arr + copied_arr)"
   ]
  },
  {
   "cell_type": "code",
   "execution_count": 41,
   "id": "5b30b997-7840-4d5c-ab8b-46c79a3f35ec",
   "metadata": {},
   "outputs": [
    {
     "name": "stdout",
     "output_type": "stream",
     "text": [
      "copied_array:  [0 1 2 3 4 5 6 7 8 9]\n",
      "arr:  [0 1 2 3 4 5 6 7 8 9]\n",
      "arr + copied_array:  [0 0 0 0 0 0 0 0 0 0]\n"
     ]
    }
   ],
   "source": [
    "print(\"copied_array: \", copied_arr)\n",
    "print(\"arr: \", arr)\n",
    "print(\"arr + copied_array: \", arr - copied_arr)"
   ]
  },
  {
   "cell_type": "code",
   "execution_count": 42,
   "id": "a6fa740d-c90c-4465-91bb-d5747aed0f30",
   "metadata": {},
   "outputs": [
    {
     "name": "stdout",
     "output_type": "stream",
     "text": [
      "copied_array:  [0 1 2 3 4 5 6 7 8 9]\n",
      "arr:  [0 1 2 3 4 5 6 7 8 9]\n",
      "arr + copied_array:  [ 0  1  4  9 16 25 36 49 64 81]\n"
     ]
    }
   ],
   "source": [
    "print(\"copied_array: \", copied_arr)\n",
    "print(\"arr: \", arr)\n",
    "print(\"arr + copied_array: \", arr * copied_arr)"
   ]
  },
  {
   "cell_type": "code",
   "execution_count": 43,
   "id": "d02b9062-ac5b-4bb0-b9f4-ae85f79477b5",
   "metadata": {
    "scrolled": true
   },
   "outputs": [
    {
     "name": "stdout",
     "output_type": "stream",
     "text": [
      "matrix:\n",
      " [[0 1 2 3 4]\n",
      " [5 6 7 8 9]]\n",
      "matrix_2:\n",
      " [[0 1 2 3 4]\n",
      " [5 6 7 8 9]]\n",
      "matrix - matrix_2:\n",
      " [[0 0 0 0 0]\n",
      " [0 0 0 0 0]]\n"
     ]
    }
   ],
   "source": [
    "matrix = arr.reshape(2, 5)\n",
    "matrix_2 = matrix.copy()\n",
    "\n",
    "print(\"matrix:\\n\", matrix)\n",
    "print(\"matrix_2:\\n\", matrix_2)\n",
    "print(\"matrix - matrix_2:\\n\", matrix - matrix_2)"
   ]
  },
  {
   "cell_type": "code",
   "execution_count": 44,
   "id": "b9a18411-f1ed-433a-a457-3495bdbef14f",
   "metadata": {},
   "outputs": [
    {
     "data": {
      "text/plain": [
       "array([[0, 5],\n",
       "       [1, 6],\n",
       "       [2, 7],\n",
       "       [3, 8],\n",
       "       [4, 9]])"
      ]
     },
     "execution_count": 44,
     "metadata": {},
     "output_type": "execute_result"
    }
   ],
   "source": [
    "matrix_2.T"
   ]
  },
  {
   "cell_type": "code",
   "execution_count": 45,
   "id": "bc6efc8f-944f-4a28-8269-a393c80ad263",
   "metadata": {},
   "outputs": [
    {
     "data": {
      "text/plain": [
       "array([[ 30,  80],\n",
       "       [ 80, 255]])"
      ]
     },
     "execution_count": 45,
     "metadata": {},
     "output_type": "execute_result"
    }
   ],
   "source": [
    "np.matmul(matrix, matrix_2.T)"
   ]
  },
  {
   "cell_type": "code",
   "execution_count": 46,
   "id": "d76aca08-9fee-4962-9158-15310b1af1ba",
   "metadata": {},
   "outputs": [
    {
     "data": {
      "text/plain": [
       "array([[ 30,  80],\n",
       "       [ 80, 255]])"
      ]
     },
     "execution_count": 46,
     "metadata": {},
     "output_type": "execute_result"
    }
   ],
   "source": [
    "matrix @ matrix_2.T"
   ]
  },
  {
   "cell_type": "code",
   "execution_count": null,
   "id": "24a178bf-1953-4105-93c3-1ee0df5b1037",
   "metadata": {},
   "outputs": [],
   "source": []
  }
 ],
 "metadata": {
  "kernelspec": {
   "display_name": "Python 3 (ipykernel)",
   "language": "python",
   "name": "python3"
  },
  "language_info": {
   "codemirror_mode": {
    "name": "ipython",
    "version": 3
   },
   "file_extension": ".py",
   "mimetype": "text/x-python",
   "name": "python",
   "nbconvert_exporter": "python",
   "pygments_lexer": "ipython3",
   "version": "3.8.13"
  }
 },
 "nbformat": 4,
 "nbformat_minor": 5
}
