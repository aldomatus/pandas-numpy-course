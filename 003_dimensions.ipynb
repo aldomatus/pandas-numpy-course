{
 "cells": [
  {
   "cell_type": "code",
   "execution_count": 1,
   "id": "d3ff8f69-8f08-4f53-aadb-d16a288f279d",
   "metadata": {},
   "outputs": [],
   "source": [
    "import numpy as np"
   ]
  },
  {
   "cell_type": "code",
   "execution_count": 2,
   "id": "36534bee-5897-4bda-a3a7-a10feba7bef1",
   "metadata": {},
   "outputs": [
    {
     "name": "stdout",
     "output_type": "stream",
     "text": [
      "42\n"
     ]
    },
    {
     "data": {
      "text/plain": [
       "0"
      ]
     },
     "execution_count": 2,
     "metadata": {},
     "output_type": "execute_result"
    }
   ],
   "source": [
    "scalar = np.array(42)\n",
    "print(scalar)\n",
    "scalar.ndim"
   ]
  },
  {
   "cell_type": "code",
   "execution_count": 3,
   "id": "e58dcb1f-6472-4d57-ac0f-4b26523fe7b2",
   "metadata": {},
   "outputs": [
    {
     "name": "stdout",
     "output_type": "stream",
     "text": [
      "[1 2 3]\n"
     ]
    },
    {
     "data": {
      "text/plain": [
       "1"
      ]
     },
     "execution_count": 3,
     "metadata": {},
     "output_type": "execute_result"
    }
   ],
   "source": [
    "vector = np.array([1,2,3])\n",
    "print(vector)\n",
    "vector.ndim"
   ]
  },
  {
   "cell_type": "code",
   "execution_count": 5,
   "id": "ed751415-59b7-4bb4-86ff-e03d3992b01e",
   "metadata": {},
   "outputs": [
    {
     "name": "stdout",
     "output_type": "stream",
     "text": [
      "[[1 2 3]\n",
      " [4 5 6]]\n"
     ]
    },
    {
     "data": {
      "text/plain": [
       "2"
      ]
     },
     "execution_count": 5,
     "metadata": {},
     "output_type": "execute_result"
    }
   ],
   "source": [
    "matrix = np.array([[1,2,3], [4,5,6]])\n",
    "print(matrix)\n",
    "matrix.ndim"
   ]
  },
  {
   "cell_type": "code",
   "execution_count": 7,
   "id": "26c539d2-0d88-4dc4-8e79-b66f8b734837",
   "metadata": {},
   "outputs": [
    {
     "name": "stdout",
     "output_type": "stream",
     "text": [
      "[[[ 1  2  3]\n",
      "  [ 4  5  6]]\n",
      "\n",
      " [[ 7  8  9]\n",
      "  [10 11 12]]]\n"
     ]
    },
    {
     "data": {
      "text/plain": [
       "3"
      ]
     },
     "execution_count": 7,
     "metadata": {},
     "output_type": "execute_result"
    }
   ],
   "source": [
    "tensor = np.array([[[1,2,3], [4,5,6]], [[7,8,9], [10,11,12]]])\n",
    "print(tensor)\n",
    "tensor.ndim"
   ]
  },
  {
   "cell_type": "code",
   "execution_count": 11,
   "id": "a6a163fe-f8ac-4047-b03e-62d22bf9b4de",
   "metadata": {},
   "outputs": [],
   "source": [
    "## Add or remove dimensions"
   ]
  },
  {
   "cell_type": "code",
   "execution_count": 14,
   "id": "444366a5-7aab-40e4-8911-97cadaef980a",
   "metadata": {},
   "outputs": [
    {
     "name": "stdout",
     "output_type": "stream",
     "text": [
      "[[[[[[[[[[1 2 3]]]]]]]]]]\n"
     ]
    },
    {
     "data": {
      "text/plain": [
       "10"
      ]
     },
     "execution_count": 14,
     "metadata": {},
     "output_type": "execute_result"
    }
   ],
   "source": [
    "tensor = np.array([1,2,3], ndmin=10)\n",
    "print(tensor)\n",
    "tensor.ndim"
   ]
  },
  {
   "cell_type": "code",
   "execution_count": 16,
   "id": "092db0a2-da77-43ad-9bba-94fdbc88ba1f",
   "metadata": {},
   "outputs": [
    {
     "name": "stdout",
     "output_type": "stream",
     "text": [
      "[[1 2 3]]\n"
     ]
    },
    {
     "data": {
      "text/plain": [
       "2"
      ]
     },
     "execution_count": 16,
     "metadata": {},
     "output_type": "execute_result"
    }
   ],
   "source": [
    "expand = np.expand_dims(np.array([1,2,3]), axis=0)\n",
    "print(expand)\n",
    "expand.ndim"
   ]
  },
  {
   "cell_type": "code",
   "execution_count": 17,
   "id": "1a68433c-d627-4fe1-aa8b-eb1b6225c17c",
   "metadata": {},
   "outputs": [],
   "source": [
    "## Squeeze dimensions"
   ]
  },
  {
   "cell_type": "code",
   "execution_count": 21,
   "id": "e144db20-0d41-4287-afa7-1c4da6c89df7",
   "metadata": {},
   "outputs": [
    {
     "name": "stdout",
     "output_type": "stream",
     "text": [
      "tensor: [[[[[[[[[[1 2 3]]]]]]]]]], dimension: 10\n",
      "tensor: [1 2 3], dimension: 1\n"
     ]
    }
   ],
   "source": [
    "print(f\"tensor: {tensor}, dimension: {tensor.ndim}\")\n",
    "tensor_2 = np.squeeze(vector)\n",
    "print(f\"tensor: {tensor_2}, dimension: {tensor_2.ndim}\")"
   ]
  },
  {
   "cell_type": "code",
   "execution_count": 22,
   "id": "82fb382a-ae7e-4220-bf56-6c5981952034",
   "metadata": {},
   "outputs": [
    {
     "name": "stdout",
     "output_type": "stream",
     "text": [
      "Array with 10 dimensions: (1, 1, 1, 1, 1, 1, 1, 1, 1, 3)\n"
     ]
    }
   ],
   "source": [
    "array_10d = np.array([1, 2, 3], ndmin=10)\n",
    "print(f\"Array with 10 dimensions: {array_10d.shape}\")"
   ]
  },
  {
   "cell_type": "markdown",
   "id": "e7b0c8bf-e4bc-4a40-8e65-81c51fa2035e",
   "metadata": {},
   "source": [
    "## Challenge\n",
    "### 1. Create a tensor of 5 dimensions\n",
    "### 2. Add a dimension to the tensor\n",
    "### 3. Remove all unecessary dimensions"
   ]
  },
  {
   "cell_type": "code",
   "execution_count": 25,
   "id": "67fc7125-8f0e-446b-a96b-9989d533873e",
   "metadata": {},
   "outputs": [
    {
     "data": {
      "text/plain": [
       "array([[[[[1, 0],\n",
       "          [0, 1]],\n",
       "\n",
       "         [[1, 1],\n",
       "          [1, 1]]],\n",
       "\n",
       "\n",
       "        [[[0, 0],\n",
       "          [0, 0]],\n",
       "\n",
       "         [[1, 0],\n",
       "          [0, 1]]]]])"
      ]
     },
     "execution_count": 25,
     "metadata": {},
     "output_type": "execute_result"
    }
   ],
   "source": [
    "tensor_5d = np.array([\n",
    "    [\n",
    "    [\n",
    "        [\n",
    "            [1, 0], \n",
    "            [0, 1]\n",
    "        ], \n",
    "        [\n",
    "            [1, 1], \n",
    "            [1, 1]\n",
    "        ]\n",
    "    ], \n",
    "    [\n",
    "        [\n",
    "            [0, 0], \n",
    "            [0, 0]\n",
    "        ], \n",
    "        [\n",
    "            [1, 0], \n",
    "            [0, 1]\n",
    "        ]\n",
    "    ]\n",
    "    ]\n",
    "], ndmin=5)\n",
    "tensor_5d"
   ]
  },
  {
   "cell_type": "code",
   "execution_count": 26,
   "id": "776d3e51-4bb7-433f-a5c4-9ac101a930e9",
   "metadata": {},
   "outputs": [
    {
     "data": {
      "text/plain": [
       "5"
      ]
     },
     "execution_count": 26,
     "metadata": {},
     "output_type": "execute_result"
    }
   ],
   "source": [
    "tensor_5d.ndim"
   ]
  },
  {
   "cell_type": "code",
   "execution_count": 27,
   "id": "4246719a-3ab7-4648-ad56-125d060977ae",
   "metadata": {},
   "outputs": [
    {
     "name": "stdout",
     "output_type": "stream",
     "text": [
      "Expanded tensor dimensions: (1, 1, 2, 2, 2, 2)\n"
     ]
    }
   ],
   "source": [
    "expanded_tensor = np.expand_dims(tensor_5d, axis=0)\n",
    "print(f\"Expanded tensor dimensions: {expanded_tensor.shape}\")"
   ]
  },
  {
   "cell_type": "code",
   "execution_count": 29,
   "id": "7affd7f3-7bcd-46c1-ad70-4427c81b376d",
   "metadata": {},
   "outputs": [
    {
     "name": "stdout",
     "output_type": "stream",
     "text": [
      "Squeezed tensor dimensions: (2, 2, 2, 2)\n",
      "No of dimensions: 4\n"
     ]
    }
   ],
   "source": [
    "squeezed_tensor = np.squeeze(expanded_tensor)\n",
    "print(f\"Squeezed tensor dimensions: {squeezed_tensor.shape}\")\n",
    "print(f\"No of dimensions: {squeezed_tensor.ndim}\")"
   ]
  },
  {
   "cell_type": "code",
   "execution_count": null,
   "id": "bec7a6ef-b8b9-49e8-a8e4-d8bfcb4edd38",
   "metadata": {},
   "outputs": [],
   "source": []
  }
 ],
 "metadata": {
  "kernelspec": {
   "display_name": "Python 3 (ipykernel)",
   "language": "python",
   "name": "python3"
  },
  "language_info": {
   "codemirror_mode": {
    "name": "ipython",
    "version": 3
   },
   "file_extension": ".py",
   "mimetype": "text/x-python",
   "name": "python",
   "nbconvert_exporter": "python",
   "pygments_lexer": "ipython3",
   "version": "3.8.13"
  }
 },
 "nbformat": 4,
 "nbformat_minor": 5
}
